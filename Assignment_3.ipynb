{
  "nbformat": 4,
  "nbformat_minor": 0,
  "metadata": {
    "colab": {
      "provenance": [],
      "authorship_tag": "ABX9TyMfVvYwZNtuPV2jrm8QS+1X",
      "include_colab_link": true
    },
    "kernelspec": {
      "name": "python3",
      "display_name": "Python 3"
    },
    "language_info": {
      "name": "python"
    }
  },
  "cells": [
    {
      "cell_type": "markdown",
      "metadata": {
        "id": "view-in-github",
        "colab_type": "text"
      },
      "source": [
        "<a href=\"https://colab.research.google.com/github/Sophie-X31/JSC270-Assignment-3/blob/main/Assignment_3.ipynb\" target=\"_parent\"><img src=\"https://colab.research.google.com/assets/colab-badge.svg\" alt=\"Open In Colab\"/></a>"
      ]
    },
    {
      "cell_type": "markdown",
      "source": [
        "# Import Statements"
      ],
      "metadata": {
        "id": "rVmdJrWSV5OY"
      }
    },
    {
      "cell_type": "code",
      "source": [
        "import numpy as np\n",
        "import matplotlib.pyplot as plt\n",
        "import seaborn as sns\n",
        "import pandas as pd\n",
        "from scipy import stats\n",
        "from scipy import integrate as integrate\n",
        "import statsmodels.api as sm\n",
        "import statsmodels.formula.api as smf\n",
        "import math\n",
        "\n",
        "np.random.seed(1008028732)"
      ],
      "metadata": {
        "id": "ueaSrCrVVsKi"
      },
      "execution_count": null,
      "outputs": []
    },
    {
      "cell_type": "markdown",
      "source": [
        "# PART I: Approximating Pi"
      ],
      "metadata": {
        "id": "XhiSODJXSr5G"
      }
    },
    {
      "cell_type": "markdown",
      "source": [
        "A. Imagine having a unit circle inscribed in a square on a coordinate system. The area of the circle is $\\pi \\cdot (\\frac{1}{2})^2 = \\frac{\\pi}{4}$, while the area of the square is $(1)^2 = 1$. Then we can approximate the value of $\\pi$ if we estimate the ratio $\\frac{Area_{Circle}}{Area_{Square}}$ and multiply the ratio by 4. Thus, by generating a pair of random sample from Uniform[0, 1], we get a point in the square. By estimating the ratio between number of points inside the circle and number of points outside of the circle, we obtain an estimation of the ratio $\\frac{Area_{Circle}}{Area_{Square}}$."
      ],
      "metadata": {
        "id": "gWLRzTbrTjQ9"
      }
    },
    {
      "cell_type": "markdown",
      "source": [
        "B. I tried generating 1000 pairs of uniform numbers, so it is likely ensured that there is at least one point outside of the circle, or else the ratio is undefined. Note more pairs can be generated as well, but the code will take longer to finish executing. The mean of 5000 samples is usually around 3.14, which is relatively close to the value of $\\pi$."
      ],
      "metadata": {
        "id": "DpuOonTFZUZG"
      }
    },
    {
      "cell_type": "markdown",
      "source": [
        "C. I would expect the distribution of the estimates to be symmetric, because the ratio has a normal distribution. This can be proven using the reasoning in the bonus question. Note a normal distribution is symmetric."
      ],
      "metadata": {
        "id": "ThVbsabKbbWu"
      }
    },
    {
      "cell_type": "code",
      "execution_count": null,
      "metadata": {
        "colab": {
          "base_uri": "https://localhost:8080/",
          "height": 421
        },
        "id": "oTCDvGbiSA5Y",
        "outputId": "03689987-a4aa-446c-a57e-3acda6899351"
      },
      "outputs": [
        {
          "output_type": "stream",
          "name": "stdout",
          "text": [
            "3.1416256000000002\n"
          ]
        },
        {
          "output_type": "display_data",
          "data": {
            "text/plain": [
              "<Figure size 576x432 with 1 Axes>"
            ],
            "image/png": "[encoded data removed]"
          },
          "metadata": {
            "needs_background": "light"
          }
        }
      ],
      "source": [
        "# Generate Ratio\n",
        "def generate(k, n):\n",
        "  output = np.zeros(k)\n",
        "  for j in range(k):\n",
        "    circle = []\n",
        "    for i in range(n):\n",
        "      x = np.random.uniform(0, 1)\n",
        "      y = np.random.uniform(0, 1)\n",
        "      if (math.pow(x-1/2, 2) + math.pow(y-1/2, 2) <= 1/4):\n",
        "        circle.append(1)\n",
        "    output[j] = (4 * sum(circle)) / n\n",
        "  return output\n",
        "\n",
        "# Plot Samples\n",
        "sample = generate(5000, 1000)\n",
        "print(sample.mean())\n",
        "plt.figure(figsize=(8, 6))\n",
        "plt.hist(sample, bins=50)\n",
        "plt.title('Approximate Pi')\n",
        "plt.xlabel('Value')\n",
        "plt.ylabel('Frequency')\n",
        "plt.axvline(x = sample.mean(), color='green')\n",
        "plt.show()"
      ]
    },
    {
      "cell_type": "markdown",
      "source": [
        "# PART II: Understanding Bias"
      ],
      "metadata": {
        "id": "c5Pjz9MmeM0Z"
      }
    },
    {
      "cell_type": "markdown",
      "source": [
        "B. The bias of the sample variance formula (i.e. 1/(n-1)) has a value further to 0 for sample sizes from 10 to 100 than the other reasonable estimator (i.e. 1/n). This behavior is slightly unexpected, since the sample variance formula should be unbiased. Yet, the sample sizes are relatively small, so the result is reasonable. Notice when the sample size is 10, the -1 in the denominator has a large impact on the sample variance.\n",
        "\n",
        "C. I would prefer the sample variance formula because being unbiased infers that it is expected to be exactly the same as the population variance. This means the estimator is very good. \n",
        "\n",
        "D. Procedure: Assume we have the population data.\n",
        "1.   Use the population data to construct a simple linear regression model (i.e. use functions such as ols(), fit(), summary(), etc). \n",
        "2.   Find the slope parameter of the model, note this is $\\beta_1$, which is a constant\n",
        "3.   Randomly select samples with fixed size (e.g. 1000) from the population and use them to construct a simple linear regression model\n",
        "4.   Find the slope parameters of the sample linear regression model\n",
        "5.   Repeat step 4 and 5 for some number of times (e.g. 10000), note these are sample slope parameters ($\\hat{\\beta_1}$)\n",
        "6.   Find the expected value of the sample slope parameters (i.e. use function such as mean()), the result is $E(\\hat{\\beta_1})$\n",
        "7.   Lastly, compute the bias with the formula: \n",
        "$bias(\\hat{\\beta_1}) = E(\\hat{\\beta_1}-\\beta_1) = E(\\hat{\\beta_1}) -\\beta_1$\n",
        "\n",
        "E. Specification of Parameters:\n",
        "1.   The sample size should be the same for all samples, for example 1000, 2000, et cetera\n",
        "2.   The repetition of the simulation should be large enough so the approximated result is accurate, such as taking 5000, or 10000 samples.\n",
        "3.   The population slope parameter (1) should also be constant for all samples\n",
        "\n",
        "\n",
        "\n",
        "\n"
      ],
      "metadata": {
        "id": "ENNVOdEfm-AM"
      }
    },
    {
      "cell_type": "code",
      "source": [
        "# Generate Estimator\n",
        "def generate2(k, n):\n",
        "  unbiased, biased = np.zeros(k), np.zeros(k)\n",
        "  for j in range(k):\n",
        "    sum = 0\n",
        "    for i in range(n):\n",
        "      s = np.random.normal(2, 2)\n",
        "      sum = sum + math.pow((s-2), 2)\n",
        "    unbiased[j], biased[j] = (1/(n-1)) * sum, (1/n) * sum\n",
        "  return (unbiased, biased)\n",
        "\n",
        "# Find Bias\n",
        "def cal_bias(k, n):\n",
        "  sample = generate2(k, n)\n",
        "  return (sample[0].mean() - 4, sample[1].mean() - 4)\n",
        "\n",
        "# Plot and Compare\n",
        "compare = pd.DataFrame(columns=['sample_size', 'bias', 'estimator'], index=range(10))\n",
        "sizes = [10, 25, 50, 100, 250]\n",
        "for i in range(5):\n",
        "  bias = cal_bias(1000, sizes[i])\n",
        "  compare.iloc[[2*i], [0, 1, 2]] = [sizes[i], bias[0], '1/(n-1)']\n",
        "  compare.iloc[[2*i+1], [0, 1, 2]] = [sizes[i], bias[1], '1/n']\n",
        "print(compare)\n",
        "\n",
        "plt.figure(figsize=(8, 6))\n",
        "graph = sns.scatterplot(data=compare, y ='bias', x ='sample_size', hue='estimator')\n",
        "plt.title('Compare Bias')\n",
        "plt.xlabel('Sample Size')\n",
        "plt.ylabel('Bias')\n",
        "plt.axhline(y = 0, color='green')\n",
        "plt.show()"
      ],
      "metadata": {
        "colab": {
          "base_uri": "https://localhost:8080/",
          "height": 595
        },
        "id": "x68XCMBWeSiB",
        "outputId": "6381b638-e184-49c2-8cc0-de871f3ff7d0"
      },
      "execution_count": null,
      "outputs": [
        {
          "output_type": "stream",
          "name": "stdout",
          "text": [
            "  sample_size      bias estimator\n",
            "0          10  0.466794   1/(n-1)\n",
            "1          10  0.020115       1/n\n",
            "2          25  0.141646   1/(n-1)\n",
            "3          25 -0.024019       1/n\n",
            "4          50  0.084874   1/(n-1)\n",
            "5          50  0.003176       1/n\n",
            "6         100  0.031227   1/(n-1)\n",
            "7         100 -0.009085       1/n\n",
            "8         250  0.005486   1/(n-1)\n",
            "9         250 -0.010536       1/n\n"
          ]
        },
        {
          "output_type": "display_data",
          "data": {
            "text/plain": [
              "<Figure size 576x432 with 1 Axes>"
            ],
            "image/png": "[encoded data removed]"
          },
          "metadata": {
            "needs_background": "light"
          }
        }
      ]
    },
    {
      "cell_type": "markdown",
      "source": [
        "# PART III: Simulation IRL"
      ],
      "metadata": {
        "id": "v1FBZ6Br3Kea"
      }
    },
    {
      "cell_type": "markdown",
      "source": [
        "See solution doc."
      ],
      "metadata": {
        "id": "lT0HUG4L5BO3"
      }
    },
    {
      "cell_type": "markdown",
      "source": [
        "# PART IV: Asymptotic Behavior"
      ],
      "metadata": {
        "id": "akLM1vsL5je8"
      }
    },
    {
      "cell_type": "markdown",
      "source": [
        "A. The sample mean gets closer to 2 as the sample size increases. This is expected, as this is a result of the law of large numbers. The value of the mean does not matter, as long as the random variable is iid, and it has finite mean and variance, when the sample size increases, the sample mean should approach the population mean."
      ],
      "metadata": {
        "id": "n-qMVaAb5cSx"
      }
    },
    {
      "cell_type": "code",
      "source": [
        "# Generate Sample\n",
        "dataset = pd.DataFrame(columns=['sample_size', 'mean'], index=range(8))\n",
        "sizes2 = [10, 25, 50, 100, 250, 500, 2000, 5000]\n",
        "for i in range(8):\n",
        "  dataset.iloc[[i], [0, 1]] = [sizes2[i], np.random.exponential(2, sizes2[i]).mean()]\n",
        "\n",
        "# Plot Data\n",
        "plt.figure(figsize=(8, 6))\n",
        "graph = sns.scatterplot(data=dataset, y ='mean', x ='sample_size')\n",
        "plt.title('Asymptotic Behavior')\n",
        "plt.xlabel('Sample Size')\n",
        "plt.ylabel('Mean')\n",
        "plt.axhline(y = 2, color='green')\n",
        "plt.show()"
      ],
      "metadata": {
        "colab": {
          "base_uri": "https://localhost:8080/",
          "height": 404
        },
        "id": "LWSkE2LM5o_u",
        "outputId": "100e0b7e-5c28-4475-8b4a-d09a888cb64d"
      },
      "execution_count": null,
      "outputs": [
        {
          "output_type": "display_data",
          "data": {
            "text/plain": [
              "<Figure size 576x432 with 1 Axes>"
            ],
            "image/png": "[encoded data removed]"
          },
          "metadata": {
            "needs_background": "light"
          }
        }
      ]
    },
    {
      "cell_type": "markdown",
      "source": [
        "B. There is no clear correlation between the sample size and the sample mean. This is expected, because the law of large numbers essentially means the sample mean converges in probability to the population mean, which does not apply to the Cauchy distributions."
      ],
      "metadata": {
        "id": "STo71BsuOYej"
      }
    },
    {
      "cell_type": "code",
      "source": [
        "# Generate Sample\n",
        "def generate4(n):\n",
        "  output = pd.DataFrame(columns=['sample_size', 'mean'], index=range(8*n))\n",
        "  for j in range(n):\n",
        "    for i in range(8):\n",
        "      output.iloc[[8*j + i], [0, 1]] = [sizes2[i], np.random.standard_cauchy(sizes2[i]).mean()]\n",
        "  return output\n",
        "\n",
        "# Plot Data\n",
        "dataset2 = generate4(1000)\n",
        "plt.figure(figsize=(16, 8))\n",
        "plt.subplots_adjust(left=0.1,\n",
        "                    bottom=0.1,\n",
        "                    right=0.9,\n",
        "                    top=0.9,\n",
        "                    wspace=0.4,\n",
        "                    hspace=0.4)\n",
        "for i in range(8):\n",
        "  plt.subplot(2, 4, i+1)\n",
        "  plt.title('Sample Size: ' + str(sizes2[i]))\n",
        "  plt.xlabel('Mean')\n",
        "  plt.ylabel('Frequency')\n",
        "  plt.hist(dataset2[dataset2['sample_size'] == sizes2[i]]['mean'], \n",
        "           alpha=0.5, label=str(sizes2[i]))\n",
        "plt.show()"
      ],
      "metadata": {
        "colab": {
          "base_uri": "https://localhost:8080/",
          "height": 539
        },
        "id": "QPxwflsbFWkm",
        "outputId": "c0bde73e-2649-45c6-fb30-e0c863bf85d2"
      },
      "execution_count": null,
      "outputs": [
        {
          "output_type": "display_data",
          "data": {
            "text/plain": [
              "<Figure size 1152x576 with 8 Axes>"
            ],
            "image/png": "[encoded data removed]"
          },
          "metadata": {
            "needs_background": "light"
          }
        }
      ]
    },
    {
      "cell_type": "markdown",
      "source": [
        "# PART V: Logistic Regression"
      ],
      "metadata": {
        "id": "v6YnD4yyh2Z4"
      }
    },
    {
      "cell_type": "markdown",
      "source": [
        "See solution doc."
      ],
      "metadata": {
        "id": "bCvOyx_jiIMs"
      }
    }
  ]
}